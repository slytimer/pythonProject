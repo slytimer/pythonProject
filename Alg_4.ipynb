{
 "cells": [
  {
   "cell_type": "code",
   "execution_count": 3,
   "metadata": {},
   "outputs": [],
   "source": [
    "import numpy as np\n",
    "from numpy.linalg import norm"
   ]
  },
  {
   "cell_type": "markdown",
   "metadata": {},
   "source": [
    "__1.__ Решить систему уравнений методом Гаусса:\n",
    "\n",
    "$$\\begin{cases}\n",
    "x_{1}+x_{2}-x_{3}-2x_{4}=0, \\\\\n",
    "2x_{1}+x_{2}-x_{3}+x_{4}=-2, \\\\\n",
    "x_{1}+x_{2}-3x_{3}+x_{4}=4.\n",
    "\\end{cases}$$"
   ]
  },
  {
   "cell_type": "markdown",
   "metadata": {},
   "source": [
    "Запишем расширенную матрицу системы:\n",
    "\n",
    "$$\\begin{pmatrix}\n",
    "\\left.\\begin{matrix}\n",
    "1 & 1 & -1 & -2 \\\\ \n",
    "2 & 1 & -1 & 1 \\\\ \n",
    "1 & 1 & -3 & 1\n",
    "\\end{matrix}\\right|\n",
    "\\begin{matrix}\n",
    "0\\\\ \n",
    "-2\\\\\n",
    "4\n",
    "\\end{matrix}\n",
    "\\end{pmatrix}.$$"
   ]
  },
  {
   "cell_type": "markdown",
   "metadata": {},
   "source": [
    "Умножим на 2 йю строк и вычтем её из второй"
   ]
  },
  {
   "cell_type": "markdown",
   "metadata": {},
   "source": [
    "$$\\begin{pmatrix}\n",
    "\\left.\\begin{matrix}\n",
    "1 & 1 & -1 & -2 \\\\ \n",
    "0 & -1 & 1 & -3 \\\\ \n",
    "1 & 1 & -3 & 1\n",
    "\\end{matrix}\\right|\n",
    "\\begin{matrix}\n",
    "0\\\\ \n",
    "-2\\\\\n",
    "4\n",
    "\\end{matrix}\n",
    "\\end{pmatrix}.$$"
   ]
  },
  {
   "cell_type": "markdown",
   "metadata": {},
   "source": [
    "вычтем из 3 1\n",
    "$$\\begin{pmatrix}\n",
    "\\left.\\begin{matrix}\n",
    "1 & 1 & -1 & -2 \\\\ \n",
    "0 & -1 & 1 & -3 \\\\ \n",
    "0 & 0 & -2 & 3\n",
    "\\end{matrix}\\right|\n",
    "\\begin{matrix}\n",
    "0\\\\ \n",
    "-2\\\\\n",
    "4\n",
    "\\end{matrix}\n",
    "\\end{pmatrix}.$$"
   ]
  },
  {
   "cell_type": "markdown",
   "metadata": {},
   "source": [
    "Значит -2x3+3x4=4, система имеет множество решений.\n",
    "x4=c\n",
    "x3=-(4-3c)/2\n",
    "x2=2-(4-3c)/2-3c\n",
    "x1=-(2-(4-3c)/2-3c)-(4-3c)/2+2c"
   ]
  },
  {
   "cell_type": "markdown",
   "metadata": {},
   "source": [
    "__2.__ Проверить на совместность и выяснить, сколько решений будет иметь система линейных уравнений:\n",
    "\n",
    "   а) $\\begin{cases}\n",
    "3x_{1}-x_{2}+x_{3}=4, \\\\\n",
    "2x_{1}-5x_{2}-3x_{3}=-17, \\\\\n",
    "x_{1}+x_{2}-x_{3}=0;\n",
    "\\end{cases}$"
   ]
  },
  {
   "cell_type": "markdown",
   "metadata": {},
   "source": [
    "Найдём определители"
   ]
  },
  {
   "cell_type": "code",
   "execution_count": 12,
   "metadata": {},
   "outputs": [
    {
     "name": "stdout",
     "output_type": "stream",
     "text": [
      "определители 32.0 32.0 64.00000000000003 95.99999999999999\n",
      "решение 1.0 2.000000000000001 2.9999999999999996\n"
     ]
    }
   ],
   "source": [
    "a = np.array([[3, -1, 1], [2, -5, -3], [1, 1, -1]])\n",
    "a1 = np.array([[4, -1, 1], [-17, -5, -3], [0, 1, -1]])\n",
    "a2 = np.array([[3, 4, 1], [2, -17, -3], [1, 0, -1]])\n",
    "a3 = np.array([[3, -1, 4], [2, -5, -17], [1, 1, 0]])\n",
    "det_a=np.linalg.det(a)\n",
    "det_a1=np.linalg.det(a1)\n",
    "det_a2=np.linalg.det(a2)\n",
    "det_a3=np.linalg.det(a3)\n",
    "print('определители',det_a,det_a1,det_a2,det_a3)\n",
    "x1=det_a1/det_a\n",
    "x2=det_a2/det_a\n",
    "x3=det_a3/det_a\n",
    "print('решение',x1,x2,x3)"
   ]
  },
  {
   "cell_type": "markdown",
   "metadata": {},
   "source": [
    "значит система совместна и имеет одно решение. вектор (1,2,3)"
   ]
  },
  {
   "cell_type": "markdown",
   "metadata": {},
   "source": [
    "   б) $\\begin{cases}\n",
    "2x_{1}-4x_{2}+6x_{3}=1, \\\\\n",
    "x_{1}-2x_{2}+3x_{3}=-2, \\\\\n",
    "3x_{1}-6x_{2}+9x_{3}=5;\n",
    "\\end{cases}$"
   ]
  },
  {
   "cell_type": "markdown",
   "metadata": {},
   "source": [
    "методом гаусса видно, что если из 1 уравнения вычесть 2 уравнение умноженное на 2, то получим 0=1 , а значит система решений не имеет и не совместна"
   ]
  },
  {
   "cell_type": "markdown",
   "metadata": {},
   "source": [
    "   в) $\\begin{cases}\n",
    "x_{1}+2x_{2}+5x_{3}=4, \\\\\n",
    "3x_{1}+x_{2}-8x_{3}=-2. \n",
    "\\end{cases}$"
   ]
  },
  {
   "cell_type": "markdown",
   "metadata": {},
   "source": [
    "методом гаусса обнулить 1 или 2 строку не получится, т.к. коэффициенты непропорциональны, также очевидно что уравнений меньше чем переменных, а занчит система имеет множество решений и совместна"
   ]
  },
  {
   "cell_type": "markdown",
   "metadata": {},
   "source": [
    "__3.__ Проверить на совместность и выяснить, сколько решений будет иметь система линейных уравнений, заданная расширенной матрицей\n",
    "\n",
    "$$\\tilde{A}=\\begin{pmatrix}\n",
    "\\left.\\begin{matrix}\n",
    "1 & 3 & -2 & 4\\\\ \n",
    "0 & 5 & 0 & 1\\\\ \n",
    "0 & 0 & 3 & 0\\\\ \n",
    "0 & 0 & 0 & 2\n",
    "\\end{matrix}\\right|\n",
    "\\begin{matrix}\n",
    "3\\\\ \n",
    "2\\\\\n",
    "4\\\\\n",
    "1\n",
    "\\end{matrix}\n",
    "\\end{pmatrix}.$$"
   ]
  },
  {
   "cell_type": "markdown",
   "metadata": {},
   "source": [
    "коэффициенты непроворциональны, количество уравнений и переменных равно. система совместна и имеет одно решение\n",
    "x4=1/2, x3=4/3, x2=(2-1/2)/5, x1=3-(2-1/2)/5+4/3-1/2"
   ]
  },
  {
   "cell_type": "code",
   "execution_count": 14,
   "metadata": {},
   "outputs": [
    {
     "name": "stdout",
     "output_type": "stream",
     "text": [
      "3.533333333333333 0.3 (1.3333333333333333,) 0.5\n"
     ]
    }
   ],
   "source": [
    "x4=1/2\n",
    "x3=4/3, \n",
    "x2=(2-1/2)/5 \n",
    "x1=3-(2-1/2)/5+4/3-1/2\n",
    "print(x1,x2,x3,x4)"
   ]
  },
  {
   "cell_type": "markdown",
   "metadata": {},
   "source": [
    "__4.__ Дана система линейных уравнений, заданная расширенной матрицей\n",
    "\n",
    "$$\\tilde{A}=\\begin{pmatrix}\n",
    "\\left.\\begin{matrix}\n",
    "1 & 2 & 3\\\\ \n",
    "4 & 5 & 6\\\\ \n",
    "7 & 8 & 9\n",
    "\\end{matrix}\\right|\n",
    "\\begin{matrix}\n",
    "a\\\\ \n",
    "b\\\\\n",
    "c\n",
    "\\end{matrix}\n",
    "\\end{pmatrix}.$$\n",
    "\n",
    "Найти соотношение между параметрами $a$, $b$ и $c$, при которых система является несовместной."
   ]
  },
  {
   "cell_type": "markdown",
   "metadata": {},
   "source": [
    "попробуем привести к ступенчатой форме и получим\n",
    "$$\\tilde{A}=\\begin{pmatrix}\n",
    "\\left.\\begin{matrix}\n",
    "1 & 2 & 3\\\\ \n",
    "2 & 1 & 0\\\\ \n",
    "0 & 0 & 0\n",
    "\\end{matrix}\\right|\n",
    "\\begin{matrix}\n",
    "a\\\\ \n",
    "b-2a\\\\\n",
    "c-3a-2c\n",
    "\\end{matrix}\n",
    "\\end{pmatrix}.$$\n",
    "\n",
    "если c-3a-2x!=0 то система является несовместной"
   ]
  },
  {
   "cell_type": "markdown",
   "metadata": {},
   "source": [
    "__1.__ Решить систему уравнений методом Крамера:\n",
    "\n",
    "   а) $\\begin{cases}\n",
    "x_{1}-2x_{2}=1 \\\\\n",
    "3x_{1}-4x_{2}=7\n",
    "\\end{cases}$"
   ]
  },
  {
   "cell_type": "code",
   "execution_count": 15,
   "metadata": {},
   "outputs": [
    {
     "name": "stdout",
     "output_type": "stream",
     "text": [
      "определители 2.0000000000000004 9.999999999999998 4.0\n",
      "решение 4.999999999999998 1.9999999999999996\n"
     ]
    }
   ],
   "source": [
    "a = np.array([[1, -2], [3, -4]])\n",
    "a1 = np.array([[1, -2], [7, -4]])\n",
    "a2 = np.array([[1, 1], [3, 7]])\n",
    "det_a=np.linalg.det(a)\n",
    "det_a1=np.linalg.det(a1)\n",
    "det_a2=np.linalg.det(a2)\n",
    "print('определители',det_a,det_a1,det_a2)\n",
    "x1=det_a1/det_a\n",
    "x2=det_a2/det_a\n",
    "print('решение',x1,x2)"
   ]
  },
  {
   "cell_type": "markdown",
   "metadata": {},
   "source": [
    "Ответ: x1=5, x2=2"
   ]
  },
  {
   "cell_type": "markdown",
   "metadata": {},
   "source": [
    "   б) $\\begin{cases}\n",
    "2x_{1}-x_{2}+5x_{3}=10 \\\\\n",
    "x_{1}+x_{2}-3x_{3}=-2 \\\\\n",
    "2x_{1}+4x_{2}+x_{3}=1\n",
    "\\end{cases}$"
   ]
  },
  {
   "cell_type": "code",
   "execution_count": 16,
   "metadata": {},
   "outputs": [
    {
     "name": "stdout",
     "output_type": "stream",
     "text": [
      "определители 42.99999999999998 86.00000000000004 -43.000000000000014 42.99999999999998\n",
      "решение 2.0000000000000018 -1.0000000000000009 1.0\n"
     ]
    }
   ],
   "source": [
    "a = np.array([[2, -1, 5], [1, 1, -3], [2, 4, 1]])\n",
    "a1 = np.array([[10, -1, 5], [-2, 1, -3], [1, 4, 1]])\n",
    "a2 = np.array([[2, 10, 5], [1, -2, -3], [2, 1, 1]])\n",
    "a3 = np.array([[2, -1, 10], [1, 1, -2], [2, 4, 1]])\n",
    "det_a=np.linalg.det(a)\n",
    "det_a1=np.linalg.det(a1)\n",
    "det_a2=np.linalg.det(a2)\n",
    "det_a3=np.linalg.det(a3)\n",
    "print('определители',det_a,det_a1,det_a2,det_a3)\n",
    "x1=det_a1/det_a\n",
    "x2=det_a2/det_a\n",
    "x3=det_a3/det_a\n",
    "print('решение',x1,x2,x3)"
   ]
  },
  {
   "cell_type": "markdown",
   "metadata": {},
   "source": [
    "Ответ x1=2, x2=-1, x3=1 (2,-1,1)"
   ]
  },
  {
   "cell_type": "markdown",
   "metadata": {},
   "source": [
    "__2*.__ Найти $L$-матрицу $LU$-разложения для матрицы коэффициентов:\n",
    "\n",
    "   а)$$\\begin{pmatrix}\n",
    "1 & 2 & 4 \\\\ \n",
    "2 & 9 & 12 \\\\ \n",
    "3 & 26 & 30\n",
    "\\end{pmatrix}$$"
   ]
  },
  {
   "cell_type": "markdown",
   "metadata": {},
   "source": [
    "l21=2, l31=3\n",
    "$$\\begin{pmatrix}\n",
    "1 & 2 & 4 \\\\ \n",
    "0 & 5 & 4 \\\\ \n",
    "0 & 20 & 18\n",
    "\\end{pmatrix}$$"
   ]
  },
  {
   "cell_type": "markdown",
   "metadata": {},
   "source": [
    "l32=4\n",
    "\n",
    "$$U=\\begin{pmatrix}\n",
    "1 & 2 & 4 \\\\ \n",
    "0 & 5 & 4 \\\\ \n",
    "0 & 0 & 2\n",
    "\\end{pmatrix}$$"
   ]
  },
  {
   "cell_type": "markdown",
   "metadata": {},
   "source": [
    "$$L=\\begin{pmatrix}\n",
    "1 & 0 & 0 \\\\ \n",
    "2 & 1 & 0 \\\\ \n",
    "3 & 4 & 1\n",
    "\\end{pmatrix}$$"
   ]
  },
  {
   "cell_type": "markdown",
   "metadata": {},
   "source": [
    "   б)$$\\begin{pmatrix}\n",
    "1 & 1 & 2 & 4\\\\ \n",
    "2 & 5 & 8 & 9\\\\ \n",
    "3 & 18 & 29 & 18\\\\\n",
    "4 & 22 & 53 & 33\n",
    "\\end{pmatrix}$$"
   ]
  },
  {
   "cell_type": "markdown",
   "metadata": {},
   "source": [
    "l21=2, l31=3, l41=4\n",
    "$$\\begin{pmatrix}\n",
    "1 & 1 & 2 & 4\\\\ \n",
    "0 & 3 & 4 & 1\\\\ \n",
    "0 & 15 & 23 & 6\\\\\n",
    "0 & 18 & 45 & 17\n",
    "\\end{pmatrix}$$"
   ]
  },
  {
   "cell_type": "markdown",
   "metadata": {},
   "source": [
    "l32=5, l42=6\n",
    "$$\\begin{pmatrix}\n",
    "1 & 1 & 2 & 4\\\\ \n",
    "0 & 3 & 4 & 1\\\\ \n",
    "0 & 0 & 3 & 1\\\\\n",
    "0 & 0 & 21 & 11\n",
    "\\end{pmatrix}$$"
   ]
  },
  {
   "cell_type": "markdown",
   "metadata": {},
   "source": [
    "l43=7\n",
    "$$U=\\begin{pmatrix}\n",
    "1 & 1 & 2 & 4\\\\ \n",
    "0 & 3 & 4 & 1\\\\ \n",
    "0 & 0 & 3 & 1\\\\\n",
    "0 & 0 & 0 & 4\n",
    "\\end{pmatrix}$$"
   ]
  },
  {
   "cell_type": "markdown",
   "metadata": {},
   "source": [
    "$$L=\\begin{pmatrix}\n",
    "1 & 0 & 0 & 0\\\\ \n",
    "2 & 1 & 0 & 0\\\\ \n",
    "3 & 5 & 1 & 0\\\\\n",
    "4 & 6 & 7 & 1\n",
    "\\end{pmatrix}$$"
   ]
  },
  {
   "cell_type": "markdown",
   "metadata": {},
   "source": [
    "__3*.__ Решить систему линейных уравнений методом $LU$-разложения\n",
    "\n",
    "$$\\begin{cases}\n",
    "2x_{1}+x_{2}+3x_{3}=1 \\\\\n",
    "11x_{1}+7x_{2}+5x_{3}=-6 \\\\\n",
    "9x_{1}+8x_{2}+4x_{3}=-5\n",
    "\\end{cases}$$"
   ]
  },
  {
   "cell_type": "markdown",
   "metadata": {},
   "source": [
    "$$\\tilde{A}=\\begin{pmatrix}\n",
    "\\left.\\begin{matrix}\n",
    "2 & 1 & 3\\\\ \n",
    "11 & 7 & 5\\\\ \n",
    "9 & 8 & 4\n",
    "\\end{matrix}\\right|\n",
    "\\begin{matrix}\n",
    "1\\\\ \n",
    "-6\\\\\n",
    "-5\n",
    "\\end{matrix}\n",
    "\\end{pmatrix}.$$"
   ]
  },
  {
   "cell_type": "markdown",
   "metadata": {},
   "source": [
    "$$l_{21}=11/2, l_{31}=9/2$$\n",
    "\n",
    "$$\\begin{pmatrix}\n",
    "2 & 1 & 3 \\\\ \n",
    "0 & 3/2 & -23/2 \\\\ \n",
    "0 & 7/2 & -19/2\n",
    "\\end{pmatrix}$$\n",
    "\n",
    "$$b=\\begin{pmatrix}\n",
    "1  \\\\ \n",
    "-23/2 \\\\ \n",
    "-19/2 \n",
    "\\end{pmatrix}$$"
   ]
  },
  {
   "cell_type": "markdown",
   "metadata": {},
   "source": [
    "$$l_{32}=7/3$$\n",
    "\n",
    "$$U=\\begin{pmatrix}\n",
    "2 & 1 & 3 \\\\ \n",
    "0 & 3/2 & -23/2 \\\\ \n",
    "0 & 0 & 52/3\n",
    "\\end{pmatrix}$$\n",
    "\n",
    "$$b=\\begin{pmatrix}\n",
    "1  \\\\ \n",
    "-23/2 \\\\ \n",
    "52/3 \n",
    "\\end{pmatrix}$$"
   ]
  },
  {
   "cell_type": "markdown",
   "metadata": {},
   "source": [
    "$$L=\\begin{pmatrix}\n",
    "1 & 0 & 0 \\\\ \n",
    "11/2 & 1 & 0 \\\\ \n",
    "9/2 & 7/3 & 1\n",
    "\\end{pmatrix}$$"
   ]
  },
  {
   "cell_type": "markdown",
   "metadata": {},
   "source": [
    "Решим теперь систему \n",
    "\n",
    "$$Ly=b:$$\n",
    "\n",
    "$$\\begin{cases}\n",
    "y_{1}=1, \\\\\n",
    "11/2y_{1}+y_{2}=-6, \\\\\n",
    "9/2y_{1}+7/3y_{2}+y_{3}=-5.\n",
    "\\end{cases}$$\n",
    "\n",
    "$$y_{1}=1,$$\n",
    "$$y_{2}=-23/2,$$\n",
    "$$y_{3}=52/3$$\n",
    "\n",
    "И затем систему\n",
    "\n",
    "$$Ux=y:$$\n",
    "\n",
    "$$\\begin{cases}\n",
    "2x_{1}+x_{2}+3x_{3}=1, \\\\\n",
    "3/2x_{2}-23/2x_{3}=-23/2, \\\\\n",
    "52/3x_{3}=52/3.\n",
    "\\end{cases}$$\n",
    "\n",
    "$$x_{3}=1,$$\n",
    "$$x_{2}=0,$$\n",
    "$$x_{1}=-1.$$"
   ]
  },
  {
   "cell_type": "markdown",
   "metadata": {},
   "source": [
    "__4*.__ Решить систему линейных уравнений методом Холецкого\n",
    "\n",
    "$$\\begin{cases}\n",
    "81x_{1}-45x_{2}+45x_{3}=531 \\\\\n",
    "-45x_{1}+50x_{2}-15x_{3}=-460 \\\\\n",
    "45x_{1}-15x_{2}+38x_{3}=193\n",
    "\\end{cases}$$"
   ]
  },
  {
   "cell_type": "markdown",
   "metadata": {},
   "source": [
    "Произведем разложение на $LL^{T}$:\n",
    "\n",
    "$$l_{11}=\\sqrt{a_{11}}=\\sqrt{81}=9,$$\n",
    "$$l_{21}=\\frac{a_{21}}{l_{11}}=\\frac{-45}{\\sqrt{81}}=-5,$$\n",
    "$$l_{31}=\\frac{a_{31}}{l_{11}}=\\frac{45}{\\sqrt{81}}=5,$$\n",
    "\n",
    "$$l_{22}=\\sqrt{a_{22}-l_{21}^{2}}=\\sqrt{50 -{(-5)}^{2}}=5,$$\n",
    "$$l_{32}=\\frac{1}{l_{22}}\\left ( a_{32}-l_{21}l_{31} \\right)=\\frac{-15-5\\cdot(-5)}{5}=2,$$\n",
    "\n",
    "$$l_{33}=\\sqrt{a_{33}-l_{31}^{2}-l_{32}^{2}}=\\sqrt{38-5^2-2^2}=3.$$\n"
   ]
  },
  {
   "cell_type": "markdown",
   "metadata": {},
   "source": [
    "Получили матрицу \n",
    "\n",
    "$$L = \\begin{pmatrix}\n",
    "9 & 0 & 0 \\\\ \n",
    "-5 & 5 & 0 \\\\ \n",
    "5 & 2 & 3\n",
    "\\end{pmatrix}, \n",
    "\\; \\; \n",
    "L^{T} = \\begin{pmatrix}\n",
    "9 & -5 & 5 \\\\ \n",
    "0 & 5 & 2 \\\\ \n",
    "0 & 0 & 3\n",
    "\\end{pmatrix}.$$"
   ]
  },
  {
   "cell_type": "markdown",
   "metadata": {},
   "source": [
    "Решим систему $Ly=b:$\n",
    "\n",
    "$$\\begin{cases}\n",
    "9y_{1}=531, \\\\\n",
    "-5y_{1}+5y_{2}=-460, \\\\\n",
    "5y_{1}+2y_{2}+3y_{3}=193.\n",
    "\\end{cases}$$\n",
    "\n",
    "$$y_{1} = 59,$$\n",
    "\n",
    "$$y_{2}=-33,$$\n",
    "\n",
    "$$y_{3}=-12.$$"
   ]
  },
  {
   "cell_type": "markdown",
   "metadata": {},
   "source": [
    "И решим систему $L^{T}x=y:$\n",
    "\n",
    "$$\\begin{cases}\n",
    "9x_{1}-5x_{2}+5x_{3}=59, \\\\\n",
    "5x_{2}+2x_{3}=-33, \\\\\n",
    "3x_{3}=-12.\n",
    "\\end{cases}$$\n",
    "\n",
    "$$x_{3}=-4,$$\n",
    "\n",
    "$$x_{2}=-5,$$\n",
    "\n",
    "$$x_{1}=6.$$"
   ]
  },
  {
   "cell_type": "markdown",
   "metadata": {},
   "source": [
    "__5*.__ Написать на Python программу с реализацией одного из изученных алгоритмов решения СЛАУ."
   ]
  },
  {
   "cell_type": "code",
   "execution_count": 25,
   "metadata": {},
   "outputs": [],
   "source": [
    "def decompose_to_LU(a):\n",
    "    \"\"\"Decompose matrix of coefficients to L and U matrices.\n",
    "     L and U triangular matrices will be represented in a single nxn matrix.\n",
    "    :param a: numpy matrix of coefficients\n",
    "    :return: numpy LU matrix\n",
    "    \"\"\"\n",
    "    # create emtpy LU-matrix\n",
    "    lu_matrix = np.matrix(np.zeros([a.shape[0], a.shape[1]]))\n",
    "    n = a.shape[0]\n",
    "\n",
    "    for k in range(n):\n",
    "        # calculate all residual k-row elements\n",
    "        for j in range(k, n):\n",
    "            lu_matrix[k, j] = a[k, j] - lu_matrix[k, :k] * lu_matrix[:k, j]\n",
    "        # calculate all residual k-column elemetns\n",
    "        for i in range(k + 1, n):\n",
    "            lu_matrix[i, k] = (a[i, k] - lu_matrix[i, : k] * lu_matrix[: k, k]) / lu_matrix[k, k]\n",
    "\n",
    "    return lu_matrix\n",
    "\n",
    "\n",
    "def get_L(m):\n",
    "    \"\"\"Get triangular L matrix from a single LU-matrix\n",
    "    :param m: numpy LU-matrix\n",
    "    :return: numpy triangular L matrix\n",
    "    \"\"\"\n",
    "    L = m.copy()\n",
    "    for i in range(L.shape[0]):\n",
    "            L[i, i] = 1\n",
    "            L[i, i+1 :] = 0\n",
    "    return np.matrix(L)\n",
    "\n",
    "\n",
    "def get_U(m):\n",
    "    \"\"\"Get triangular U matrix from a single LU-matrix\n",
    "    :param m: numpy LU-matrix\n",
    "    :return: numpy triangular U matrix\n",
    "    \"\"\"\n",
    "    U = m.copy()\n",
    "    for i in range(1, U.shape[0]):\n",
    "        U[i, :i] = 0\n",
    "    return U\n",
    "\n",
    "def solve_LU(lu_matrix, b):\n",
    "    \"\"\"Solve system of equations from given LU-matrix and vector b of absolute terms.\n",
    "    :param lu_matrix: numpy LU-matrix\n",
    "    :param b: numpy matrix of absolute terms [n x 1]\n",
    "    :return: numpy matrix of answers [n x 1]\n",
    "    \"\"\"\n",
    "    # get supporting vector y\n",
    "    y = np.matrix(np.zeros([lu_matrix.shape[0], 1]))\n",
    "    for i in range(y.shape[0]):\n",
    "        y[i, 0] = b[i, 0] - lu_matrix[i, :i] * y[:i]\n",
    "\n",
    "    # get vector of answers x\n",
    "    x = np.matrix(np.zeros([lu_matrix.shape[0], 1]))\n",
    "    for i in range(1, x.shape[0] + 1):\n",
    "        x[-i, 0] = (y[-i] - lu_matrix[-i, -i:] * x[-i:, 0] )/ lu_matrix[-i, -i]\n",
    "\n",
    "    return x"
   ]
  },
  {
   "cell_type": "code",
   "execution_count": 40,
   "metadata": {},
   "outputs": [
    {
     "name": "stdout",
     "output_type": "stream",
     "text": [
      "[[ 2  1  3]\n",
      " [11  7  5]\n",
      " [ 9  8  4]]\n",
      "[[ 1]\n",
      " [-6]\n",
      " [-5]]\n",
      "L-matrix [[1.         0.         0.        ]\n",
      " [5.5        1.         0.        ]\n",
      " [4.5        2.33333333 1.        ]]\n",
      "U-matrix [[  2.           1.           3.        ]\n",
      " [  0.           1.5        -11.5       ]\n",
      " [  0.           0.          17.33333333]]\n",
      "Ответ [[-1.]\n",
      " [ 0.]\n",
      " [ 1.]]\n"
     ]
    }
   ],
   "source": [
    "a=np.matrix('2 1 3; 11 7 5; 9 8 4')\n",
    "print(a)\n",
    "\n",
    "b=np.matrix('1; -6; -5')\n",
    "print(b)\n",
    "\n",
    "LU = decompose_to_LU(a)\n",
    "L = get_L(LU)\n",
    "U = get_U(LU)\n",
    "print('L-matrix', L)\n",
    "print('U-matrix', U)\n",
    "x=solve_LU(decompose_to_LU(a),b)\n",
    "print('Ответ',x)"
   ]
  },
  {
   "cell_type": "code",
   "execution_count": null,
   "metadata": {},
   "outputs": [],
   "source": []
  }
 ],
 "metadata": {
  "kernelspec": {
   "display_name": "Python 3",
   "language": "python",
   "name": "python3"
  },
  "language_info": {
   "codemirror_mode": {
    "name": "ipython",
    "version": 3
   },
   "file_extension": ".py",
   "mimetype": "text/x-python",
   "name": "python",
   "nbconvert_exporter": "python",
   "pygments_lexer": "ipython3",
   "version": "3.8.3"
  }
 },
 "nbformat": 4,
 "nbformat_minor": 4
}
